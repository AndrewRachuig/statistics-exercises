{
 "cells": [
  {
   "cell_type": "markdown",
   "id": "74d6389d",
   "metadata": {},
   "source": [
    "## Overview Exercises\n",
    "\n",
    "#### 1. Has the network latency gone up since we switched internet service providers?\n",
    "\n",
    "$H_{0}$ The network latency is not greater on average since we switched ISPs.\n",
    "\n",
    "$H_{a}$ The network latency is greater on average since we switched ISPs\n",
    "\n",
    "Type I Error (False Positive) = We find that the Network latency is greater on average since switching ISPs, when in reality it is not greater on average.\n",
    "\n",
    "Type II Error (False Negative) = We find that the Network latency is NOT greater on average since switching ISPs, when in reality it is greater on average.\n"
   ]
  },
  {
   "cell_type": "markdown",
   "id": "8a6eed40",
   "metadata": {},
   "source": [
    "#### 2. Is the website redesign any good?\n",
    "\n",
    "$H_{0}$ The majority of users (greater than 50%) have no preference between the new and old website designs or they prefer the old website.\n",
    "\n",
    "$H_{a}$ The majority of users (greather than 50%) prefer the new website design over the old website design.\n",
    "\n",
    "Type I Error (False Positive) = We find that the majority of users prefer the new website design, when in reality most users have no preference between the two designs or they prefer the old website.\n",
    "\n",
    "Type II Error (False Negative) = We find the majority of users have no preference between the new and old website designs or they prefer the old website, when in fact they prefer the new website design."
   ]
  },
  {
   "cell_type": "markdown",
   "id": "a740774d",
   "metadata": {},
   "source": [
    "#### 3. Is our television ad driving more sales?\n",
    "\n",
    "$H_{0}$ Since introducing our television ad less than 10% of customers were influenced by the ad to shop with us.\n",
    "\n",
    "$H_{a}$ Since introducing our television ad 10% or more of customers were influenced by the ad to shop with us.\n",
    "\n",
    "Type I Error (False Positive) = We find that since introducing our television ad 10% or more of customers were influenced by the ad to shop with us, when in fact less than 10% of customers were influenced by the ad to shop with us.\n",
    "\n",
    "Type II Error (False Negative) = We find that since introducing our television ad less than 10% of customers were influenced by the ad to shop with us, when in fact 10% or more of customers were influenced by the ad to shop with us."
   ]
  },
  {
   "cell_type": "code",
   "execution_count": 1,
   "id": "d390c4a7",
   "metadata": {},
   "outputs": [],
   "source": [
    "import numpy as np\n",
    "import seaborn as sns\n",
    "import scipy.stats as stats\n",
    "import pandas as pd\n",
    "import matplotlib.pyplot as plt"
   ]
  },
  {
   "cell_type": "markdown",
   "id": "f6b56a42",
   "metadata": {},
   "source": [
    "## T-test exercises"
   ]
  },
  {
   "cell_type": "markdown",
   "id": "0d587826",
   "metadata": {},
   "source": [
    "#### 1. Ace Realty wants to determine whether the average time it takes to sell homes is different for its two offices. A  sample of 40 sales from office #1 revealed a mean of 90 days and a standard deviation of 15 days. A sample of 50  sales from office #2 revealed a mean of 100 days and a standard deviation of 20 days. Use a .05 level of  significance."
   ]
  },
  {
   "cell_type": "code",
   "execution_count": 14,
   "id": "1d8275e2",
   "metadata": {},
   "outputs": [],
   "source": [
    "alpha = .05\n",
    "#office1 \n",
    "mean1 = 90\n",
    "sd1 = 15\n",
    "ssize1 = 40\n",
    "\n",
    "# office2\n",
    "mean2 = 100\n",
    "sd2 = 20\n",
    "ssize2 = 50"
   ]
  },
  {
   "cell_type": "markdown",
   "id": "8c1ba6d7",
   "metadata": {},
   "source": [
    "$H_{0}$ = There is no difference in time to sell a house for office #1 when compared to office #2"
   ]
  },
  {
   "cell_type": "markdown",
   "id": "45319bd5",
   "metadata": {},
   "source": [
    "$H_{a}$ = There is a difference in time to sell a house for office #1 when compared to office #2"
   ]
  },
  {
   "cell_type": "code",
   "execution_count": 135,
   "id": "0aed9516",
   "metadata": {},
   "outputs": [
    {
     "data": {
      "text/plain": [
       "<matplotlib.legend.Legend at 0x7fe86d81fa00>"
      ]
     },
     "execution_count": 135,
     "metadata": {},
     "output_type": "execute_result"
    },
    {
     "data": {
      "image/png": "[encoded data removed]",
      "text/plain": [
       "<Figure size 432x288 with 1 Axes>"
      ]
     },
     "metadata": {
      "needs_background": "light"
     },
     "output_type": "display_data"
    }
   ],
   "source": [
    "x = np.arange(50, 150)\n",
    "\n",
    "y1 = stats.norm(mean1, sd1).pdf(x)\n",
    "y2 = stats.norm(mean2, sd2).pdf(x)\n",
    "plt.plot(x,y1, label = 'Office 1')\n",
    "plt.plot(x,y2, label = 'Office 2')\n",
    "plt.legend()"
   ]
  },
  {
   "cell_type": "code",
   "execution_count": 139,
   "id": "a8312fe3",
   "metadata": {},
   "outputs": [
    {
     "data": {
      "text/plain": [
       "(-2.7091418459143854, 0.00811206270346016, 0.05)"
      ]
     },
     "execution_count": 139,
     "metadata": {},
     "output_type": "execute_result"
    }
   ],
   "source": [
    "t, p = stats.ttest_ind_from_stats(mean1, sd1, ssize1, mean2, sd2, ssize2, equal_var=False)\n",
    "t, p, alpha"
   ]
  },
  {
   "cell_type": "code",
   "execution_count": 11,
   "id": "786d68fe",
   "metadata": {},
   "outputs": [
    {
     "data": {
      "text/plain": [
       "True"
      ]
     },
     "execution_count": 11,
     "metadata": {},
     "output_type": "execute_result"
    }
   ],
   "source": [
    "p < alpha"
   ]
  },
  {
   "cell_type": "markdown",
   "id": "7b670bde",
   "metadata": {},
   "source": [
    "#### I am 95% confident that there is a difference between the time it takes to sell a house for office #1 when compared to office #2.  Further, office #1 takes less time than office #2 to do so."
   ]
  },
  {
   "cell_type": "markdown",
   "id": "d1ceb4f4",
   "metadata": {},
   "source": [
    "#### 2. Load the mpg dataset and use it to answer the following questions:\n"
   ]
  },
  {
   "cell_type": "code",
   "execution_count": 27,
   "id": "20ee1a7d",
   "metadata": {},
   "outputs": [],
   "source": [
    "from pydataset import data\n",
    "mpg = data('mpg')"
   ]
  },
  {
   "cell_type": "code",
   "execution_count": 29,
   "id": "8a70af8b",
   "metadata": {},
   "outputs": [
    {
     "name": "stdout",
     "output_type": "stream",
     "text": [
      "<class 'pandas.core.frame.DataFrame'>\n",
      "Int64Index: 234 entries, 1 to 234\n",
      "Data columns (total 11 columns):\n",
      " #   Column        Non-Null Count  Dtype  \n",
      "---  ------        --------------  -----  \n",
      " 0   manufacturer  234 non-null    object \n",
      " 1   model         234 non-null    object \n",
      " 2   displ         234 non-null    float64\n",
      " 3   year          234 non-null    int64  \n",
      " 4   cyl           234 non-null    int64  \n",
      " 5   trans         234 non-null    object \n",
      " 6   drv           234 non-null    object \n",
      " 7   cty           234 non-null    int64  \n",
      " 8   hwy           234 non-null    int64  \n",
      " 9   fl            234 non-null    object \n",
      " 10  class         234 non-null    object \n",
      "dtypes: float64(1), int64(4), object(6)\n",
      "memory usage: 21.9+ KB\n"
     ]
    },
    {
     "data": {
      "text/plain": [
       "1999    117\n",
       "2008    117\n",
       "Name: year, dtype: int64"
      ]
     },
     "execution_count": 29,
     "metadata": {},
     "output_type": "execute_result"
    }
   ],
   "source": [
    "mpg.info()\n",
    "mpg.year.value_counts()"
   ]
  },
  {
   "cell_type": "markdown",
   "id": "7cdee236",
   "metadata": {},
   "source": [
    "#### Is there a difference in fuel-efficiency in cars from 2008 vs 1999?\n"
   ]
  },
  {
   "cell_type": "code",
   "execution_count": 156,
   "id": "3e8a10f1",
   "metadata": {},
   "outputs": [],
   "source": [
    "mpg['total_mpg'] = stats.hmean(mpg[['hwy', 'cty']], axis=1)"
   ]
  },
  {
   "cell_type": "code",
   "execution_count": 151,
   "id": "e79a3e97",
   "metadata": {},
   "outputs": [],
   "source": [
    "mpg2008 = mpg[mpg.year == 2008].total_mpg\n",
    "\n",
    "mpg1999 = mpg[mpg.year == 1999].total_mpg\n"
   ]
  },
  {
   "cell_type": "code",
   "execution_count": 152,
   "id": "45d1e41c",
   "metadata": {},
   "outputs": [
    {
     "data": {
      "text/plain": [
       "<AxesSubplot:>"
      ]
     },
     "execution_count": 152,
     "metadata": {},
     "output_type": "execute_result"
    },
    {
     "data": {
      "image/png": "[encoded data removed]",
      "text/plain": [
       "<Figure size 432x288 with 1 Axes>"
      ]
     },
     "metadata": {
      "needs_background": "light"
     },
     "output_type": "display_data"
    }
   ],
   "source": [
    "mpg2008.hist()"
   ]
  },
  {
   "cell_type": "code",
   "execution_count": 153,
   "id": "18f1dd0e",
   "metadata": {},
   "outputs": [
    {
     "data": {
      "text/plain": [
       "<AxesSubplot:>"
      ]
     },
     "execution_count": 153,
     "metadata": {},
     "output_type": "execute_result"
    },
    {
     "data": {
      "image/png": "[encoded data removed]",
      "text/plain": [
       "<Figure size 432x288 with 1 Axes>"
      ]
     },
     "metadata": {
      "needs_background": "light"
     },
     "output_type": "display_data"
    }
   ],
   "source": [
    "mpg1999.hist()"
   ]
  },
  {
   "cell_type": "code",
   "execution_count": 159,
   "id": "3218d880",
   "metadata": {},
   "outputs": [
    {
     "data": {
      "text/plain": [
       "(117, 117)"
      ]
     },
     "execution_count": 159,
     "metadata": {},
     "output_type": "execute_result"
    }
   ],
   "source": [
    "mpg2008.count(), mpg1999.count() #Normality not an issue due to sample sizes"
   ]
  },
  {
   "cell_type": "code",
   "execution_count": 154,
   "id": "c343a60c",
   "metadata": {},
   "outputs": [
    {
     "data": {
      "text/plain": [
       "(22.550836772260343, 25.850396545865912)"
      ]
     },
     "execution_count": 154,
     "metadata": {},
     "output_type": "execute_result"
    }
   ],
   "source": [
    "mpg2008.var(), mpg1999.var() # Variance is relatively similar"
   ]
  },
  {
   "cell_type": "code",
   "execution_count": 160,
   "id": "7b0d92e8",
   "metadata": {},
   "outputs": [
    {
     "data": {
      "text/plain": [
       "LeveneResult(statistic=0.031071867429515194, pvalue=0.8602339200830025)"
      ]
     },
     "execution_count": 160,
     "metadata": {},
     "output_type": "execute_result"
    }
   ],
   "source": [
    "#Levenes test\n",
    "stats.levene(mpg2008, mpg1999)"
   ]
  },
  {
   "cell_type": "markdown",
   "id": "9c40eb30",
   "metadata": {},
   "source": [
    "**Hypothesis**\n",
    "\n",
    "$H_{0}$: There is no difference in avg fuel efficiency for vehicles from 2008 and 1999.\n",
    "\n",
    "$H_{a}$: There is a difference in avg fuel efficiency for vehicles from 2008 and 1999.\n",
    "\n",
    "\n",
    "**Significance Level**\n",
    "\n",
    "$\\alpha$ = 0.05\n"
   ]
  },
  {
   "cell_type": "code",
   "execution_count": 157,
   "id": "0be652e2",
   "metadata": {},
   "outputs": [
    {
     "data": {
      "text/plain": [
       "(-0.3011962975077886, 0.7635345888327115, 0.05)"
      ]
     },
     "execution_count": 157,
     "metadata": {},
     "output_type": "execute_result"
    }
   ],
   "source": [
    "t, p = stats.ttest_ind(mpg2008, mpg1999, equal_var= True)\n",
    "\n",
    "t, p, alpha"
   ]
  },
  {
   "cell_type": "code",
   "execution_count": 158,
   "id": "38144861",
   "metadata": {},
   "outputs": [
    {
     "data": {
      "text/plain": [
       "False"
      ]
     },
     "execution_count": 158,
     "metadata": {},
     "output_type": "execute_result"
    }
   ],
   "source": [
    "p < alpha"
   ]
  },
  {
   "cell_type": "markdown",
   "id": "f1ec0514",
   "metadata": {},
   "source": [
    "##### I cannot reject the null hypothesis that there is no difference in fuel efficiency for vehicles from 2008 and 1999."
   ]
  },
  {
   "cell_type": "markdown",
   "id": "02c4d251",
   "metadata": {},
   "source": [
    "#### Are compact cars more fuel-efficient than the average car?"
   ]
  },
  {
   "cell_type": "code",
   "execution_count": 179,
   "id": "e3e27e4e",
   "metadata": {},
   "outputs": [
    {
     "data": {
      "text/plain": [
       "23.500416808701296"
      ]
     },
     "execution_count": 179,
     "metadata": {},
     "output_type": "execute_result"
    },
    {
     "data": {
      "image/png": "[encoded data removed]",
      "text/plain": [
       "<Figure size 432x288 with 1 Axes>"
      ]
     },
     "metadata": {
      "needs_background": "light"
     },
     "output_type": "display_data"
    }
   ],
   "source": [
    "compact_mpg = mpg[mpg['class'] == 'compact'].total_mpg\n",
    "\n",
    "compact_mpg.hist()\n",
    "compact_mpg.mean()"
   ]
  },
  {
   "cell_type": "code",
   "execution_count": 181,
   "id": "d7575e7e",
   "metadata": {},
   "outputs": [
    {
     "data": {
      "text/plain": [
       "19.585525317633177"
      ]
     },
     "execution_count": 181,
     "metadata": {},
     "output_type": "execute_result"
    },
    {
     "data": {
      "image/png": "[encoded data removed]",
      "text/plain": [
       "<Figure size 432x288 with 1 Axes>"
      ]
     },
     "metadata": {
      "needs_background": "light"
     },
     "output_type": "display_data"
    }
   ],
   "source": [
    "all_cars_mpg = mpg.total_mpg\n",
    "all_cars_mpg.hist()\n",
    "all_cars_mpg.mean()"
   ]
  },
  {
   "cell_type": "code",
   "execution_count": 163,
   "id": "a809bb5b",
   "metadata": {},
   "outputs": [
    {
     "data": {
      "text/plain": [
       "(12.763933193960233, 24.106173930122633)"
      ]
     },
     "execution_count": 163,
     "metadata": {},
     "output_type": "execute_result"
    }
   ],
   "source": [
    "compact_mpg.var(), all_cars_mpg.var()"
   ]
  },
  {
   "cell_type": "markdown",
   "id": "98c4e977",
   "metadata": {},
   "source": [
    "**Hypothesis**\n",
    "\n",
    "$H_{0}$: There is no difference in avg fuel efficiency for compacts when compared to the average car.\n",
    "\n",
    "$H_{a}$: There is a difference in avg fuel efficiency for compacts when compared to the average car.\n",
    "\n",
    "\n",
    "**Significance Level**\n",
    "\n",
    "$\\alpha$ = 0.05"
   ]
  },
  {
   "cell_type": "code",
   "execution_count": 166,
   "id": "02876469",
   "metadata": {},
   "outputs": [
    {
     "data": {
      "text/plain": [
       "(7.512360093161354, 1.5617666348807727e-09, 0.05)"
      ]
     },
     "execution_count": 166,
     "metadata": {},
     "output_type": "execute_result"
    }
   ],
   "source": [
    "# t, p = stats.ttest_ind(compact_mpg, all_cars_mpg, equal_var= True)  This one is applicable here because we're only \n",
    "# looking at one subset (one sample) in comparison to a theoretical (or in this case actual) population mean.\n",
    "t, p = stats.ttest_1samp(compact_mpg, all_cars_mpg.mean())\n",
    "t, p, alpha"
   ]
  },
  {
   "cell_type": "code",
   "execution_count": 167,
   "id": "828c4cdf",
   "metadata": {},
   "outputs": [
    {
     "data": {
      "text/plain": [
       "True"
      ]
     },
     "execution_count": 167,
     "metadata": {},
     "output_type": "execute_result"
    }
   ],
   "source": [
    "p < alpha"
   ]
  },
  {
   "cell_type": "markdown",
   "id": "fc99e124",
   "metadata": {},
   "source": [
    "#### I am 95% confident that there is a difference between the avg car's mpg and compact car's mpg. Further, the compact car's mpg is greater than the avg car's mpg."
   ]
  },
  {
   "cell_type": "markdown",
   "id": "87cda4f3",
   "metadata": {},
   "source": [
    "#### Do manual cars get better gas mileage than automatic cars?"
   ]
  },
  {
   "cell_type": "code",
   "execution_count": 168,
   "id": "9c73a14d",
   "metadata": {},
   "outputs": [
    {
     "data": {
      "text/html": [
       "<div>\n",
       "<style scoped>\n",
       "    .dataframe tbody tr th:only-of-type {\n",
       "        vertical-align: middle;\n",
       "    }\n",
       "\n",
       "    .dataframe tbody tr th {\n",
       "        vertical-align: top;\n",
       "    }\n",
       "\n",
       "    .dataframe thead th {\n",
       "        text-align: right;\n",
       "    }\n",
       "</style>\n",
       "<table border=\"1\" class=\"dataframe\">\n",
       "  <thead>\n",
       "    <tr style=\"text-align: right;\">\n",
       "      <th></th>\n",
       "      <th>manufacturer</th>\n",
       "      <th>model</th>\n",
       "      <th>displ</th>\n",
       "      <th>year</th>\n",
       "      <th>cyl</th>\n",
       "      <th>trans</th>\n",
       "      <th>drv</th>\n",
       "      <th>cty</th>\n",
       "      <th>hwy</th>\n",
       "      <th>fl</th>\n",
       "      <th>class</th>\n",
       "      <th>total_mpg</th>\n",
       "      <th>is_manual</th>\n",
       "    </tr>\n",
       "  </thead>\n",
       "  <tbody>\n",
       "    <tr>\n",
       "      <th>1</th>\n",
       "      <td>audi</td>\n",
       "      <td>a4</td>\n",
       "      <td>1.8</td>\n",
       "      <td>1999</td>\n",
       "      <td>4</td>\n",
       "      <td>auto(l5)</td>\n",
       "      <td>f</td>\n",
       "      <td>18</td>\n",
       "      <td>29</td>\n",
       "      <td>p</td>\n",
       "      <td>compact</td>\n",
       "      <td>22.212766</td>\n",
       "      <td>False</td>\n",
       "    </tr>\n",
       "    <tr>\n",
       "      <th>2</th>\n",
       "      <td>audi</td>\n",
       "      <td>a4</td>\n",
       "      <td>1.8</td>\n",
       "      <td>1999</td>\n",
       "      <td>4</td>\n",
       "      <td>manual(m5)</td>\n",
       "      <td>f</td>\n",
       "      <td>21</td>\n",
       "      <td>29</td>\n",
       "      <td>p</td>\n",
       "      <td>compact</td>\n",
       "      <td>24.360000</td>\n",
       "      <td>True</td>\n",
       "    </tr>\n",
       "    <tr>\n",
       "      <th>3</th>\n",
       "      <td>audi</td>\n",
       "      <td>a4</td>\n",
       "      <td>2.0</td>\n",
       "      <td>2008</td>\n",
       "      <td>4</td>\n",
       "      <td>manual(m6)</td>\n",
       "      <td>f</td>\n",
       "      <td>20</td>\n",
       "      <td>31</td>\n",
       "      <td>p</td>\n",
       "      <td>compact</td>\n",
       "      <td>24.313725</td>\n",
       "      <td>True</td>\n",
       "    </tr>\n",
       "    <tr>\n",
       "      <th>4</th>\n",
       "      <td>audi</td>\n",
       "      <td>a4</td>\n",
       "      <td>2.0</td>\n",
       "      <td>2008</td>\n",
       "      <td>4</td>\n",
       "      <td>auto(av)</td>\n",
       "      <td>f</td>\n",
       "      <td>21</td>\n",
       "      <td>30</td>\n",
       "      <td>p</td>\n",
       "      <td>compact</td>\n",
       "      <td>24.705882</td>\n",
       "      <td>False</td>\n",
       "    </tr>\n",
       "    <tr>\n",
       "      <th>5</th>\n",
       "      <td>audi</td>\n",
       "      <td>a4</td>\n",
       "      <td>2.8</td>\n",
       "      <td>1999</td>\n",
       "      <td>6</td>\n",
       "      <td>auto(l5)</td>\n",
       "      <td>f</td>\n",
       "      <td>16</td>\n",
       "      <td>26</td>\n",
       "      <td>p</td>\n",
       "      <td>compact</td>\n",
       "      <td>19.809524</td>\n",
       "      <td>False</td>\n",
       "    </tr>\n",
       "  </tbody>\n",
       "</table>\n",
       "</div>"
      ],
      "text/plain": [
       "  manufacturer model  displ  year  cyl       trans drv  cty  hwy fl    class  \\\n",
       "1         audi    a4    1.8  1999    4    auto(l5)   f   18   29  p  compact   \n",
       "2         audi    a4    1.8  1999    4  manual(m5)   f   21   29  p  compact   \n",
       "3         audi    a4    2.0  2008    4  manual(m6)   f   20   31  p  compact   \n",
       "4         audi    a4    2.0  2008    4    auto(av)   f   21   30  p  compact   \n",
       "5         audi    a4    2.8  1999    6    auto(l5)   f   16   26  p  compact   \n",
       "\n",
       "   total_mpg  is_manual  \n",
       "1  22.212766      False  \n",
       "2  24.360000       True  \n",
       "3  24.313725       True  \n",
       "4  24.705882      False  \n",
       "5  19.809524      False  "
      ]
     },
     "execution_count": 168,
     "metadata": {},
     "output_type": "execute_result"
    }
   ],
   "source": [
    "mpg.head()"
   ]
  },
  {
   "cell_type": "code",
   "execution_count": 169,
   "id": "3038eaeb",
   "metadata": {},
   "outputs": [
    {
     "data": {
      "text/plain": [
       "auto(l4)      83\n",
       "manual(m5)    58\n",
       "auto(l5)      39\n",
       "manual(m6)    19\n",
       "auto(s6)      16\n",
       "auto(l6)       6\n",
       "auto(av)       5\n",
       "auto(s5)       3\n",
       "auto(s4)       3\n",
       "auto(l3)       2\n",
       "Name: trans, dtype: int64"
      ]
     },
     "execution_count": 169,
     "metadata": {},
     "output_type": "execute_result"
    }
   ],
   "source": [
    "mpg.trans.value_counts()"
   ]
  },
  {
   "cell_type": "code",
   "execution_count": 183,
   "id": "eb4cc6b5",
   "metadata": {},
   "outputs": [],
   "source": [
    "#Alternate code to get the same info: mpg[\"is_manual\"] = mpg.trans.isin(['manual(m6)', 'manual(m5)'])\n",
    "mpg[\"is_manual\"] = mpg.trans.str.contains('manual')"
   ]
  },
  {
   "cell_type": "code",
   "execution_count": 185,
   "id": "181fce1b",
   "metadata": {},
   "outputs": [
    {
     "data": {
      "text/plain": [
       "(2     24.360000\n",
       " 3     24.313725\n",
       " 6     21.272727\n",
       " 8     21.272727\n",
       " 10    23.333333\n",
       " Name: total_mpg, dtype: float64,\n",
       " 1    22.212766\n",
       " 4    24.705882\n",
       " 5    19.809524\n",
       " 7    21.600000\n",
       " 9    19.512195\n",
       " Name: total_mpg, dtype: float64)"
      ]
     },
     "execution_count": 185,
     "metadata": {},
     "output_type": "execute_result"
    }
   ],
   "source": [
    "manual_mpg = mpg[mpg.is_manual == True].total_mpg\n",
    "\n",
    "auto_mpg = mpg[mpg.is_manual == False].total_mpg\n",
    "\n",
    "manual_mpg.head(), auto_mpg.head()"
   ]
  },
  {
   "cell_type": "code",
   "execution_count": 186,
   "id": "b3a49923",
   "metadata": {},
   "outputs": [
    {
     "data": {
      "text/plain": [
       "<AxesSubplot:>"
      ]
     },
     "execution_count": 186,
     "metadata": {},
     "output_type": "execute_result"
    },
    {
     "data": {
      "image/png": "[encoded data removed]",
      "text/plain": [
       "<Figure size 432x288 with 1 Axes>"
      ]
     },
     "metadata": {
      "needs_background": "light"
     },
     "output_type": "display_data"
    }
   ],
   "source": [
    "manual_mpg.hist()"
   ]
  },
  {
   "cell_type": "code",
   "execution_count": 187,
   "id": "1c1b0b89",
   "metadata": {},
   "outputs": [
    {
     "data": {
      "text/plain": [
       "<AxesSubplot:>"
      ]
     },
     "execution_count": 187,
     "metadata": {},
     "output_type": "execute_result"
    },
    {
     "data": {
      "image/png": "[encoded data removed]",
      "text/plain": [
       "<Figure size 432x288 with 1 Axes>"
      ]
     },
     "metadata": {
      "needs_background": "light"
     },
     "output_type": "display_data"
    }
   ],
   "source": [
    "auto_mpg.hist()"
   ]
  },
  {
   "cell_type": "code",
   "execution_count": 188,
   "id": "0f06a1dd",
   "metadata": {},
   "outputs": [
    {
     "data": {
      "text/plain": [
       "(25.665633639828275, 20.428279095002054)"
      ]
     },
     "execution_count": 188,
     "metadata": {},
     "output_type": "execute_result"
    }
   ],
   "source": [
    "manual_mpg.var(), auto_mpg.var()"
   ]
  },
  {
   "cell_type": "code",
   "execution_count": 189,
   "id": "3c6fdcdb",
   "metadata": {},
   "outputs": [
    {
     "data": {
      "text/plain": [
       "LeveneResult(statistic=0.013901207169738269, pvalue=0.9062462281015493)"
      ]
     },
     "execution_count": 189,
     "metadata": {},
     "output_type": "execute_result"
    }
   ],
   "source": [
    "stats.levene(manual_mpg, auto_mpg)"
   ]
  },
  {
   "cell_type": "markdown",
   "id": "36df82c0",
   "metadata": {},
   "source": [
    "**Hypothesis**\n",
    "\n",
    "$H_{0}$: There is no difference in avg fuel efficiency for manual and automatic cars.\n",
    "\n",
    "$H_{a}$: There is a difference in avg fuel efficiency for manual and automatic cars.\n",
    "\n",
    "**Significance Level**\n",
    "\n",
    "$\\alpha$ = 0.05"
   ]
  },
  {
   "cell_type": "code",
   "execution_count": 177,
   "id": "10a64bd1",
   "metadata": {},
   "outputs": [
    {
     "data": {
      "text/plain": [
       "(4.652577547151351, 5.510464610044005e-06, 0.05)"
      ]
     },
     "execution_count": 177,
     "metadata": {},
     "output_type": "execute_result"
    }
   ],
   "source": [
    "t, p = stats.ttest_ind(manual_mpg, auto_mpg, equal_var= True)\n",
    "\n",
    "t, p, alpha"
   ]
  },
  {
   "cell_type": "code",
   "execution_count": 178,
   "id": "cf938b52",
   "metadata": {},
   "outputs": [
    {
     "data": {
      "text/plain": [
       "True"
      ]
     },
     "execution_count": 178,
     "metadata": {},
     "output_type": "execute_result"
    }
   ],
   "source": [
    "p < alpha"
   ]
  },
  {
   "cell_type": "code",
   "execution_count": 190,
   "id": "f2a683a8",
   "metadata": {},
   "outputs": [
    {
     "data": {
      "text/plain": [
       "<AxesSubplot:>"
      ]
     },
     "execution_count": 190,
     "metadata": {},
     "output_type": "execute_result"
    },
    {
     "data": {
      "image/png": "[encoded data removed]",
      "text/plain": [
       "<Figure size 432x288 with 1 Axes>"
      ]
     },
     "metadata": {
      "needs_background": "light"
     },
     "output_type": "display_data"
    }
   ],
   "source": []
  },
  {
   "cell_type": "markdown",
   "id": "1fe05753",
   "metadata": {},
   "source": [
    "#### I am 95% confident that there is a difference between manual car's mpg and automatic car's mpg. Further, the manual car's mpg is greater than the automatic car's mpg."
   ]
  }
 ],
 "metadata": {
  "kernelspec": {
   "display_name": "Python 3 (ipykernel)",
   "language": "python",
   "name": "python3"
  },
  "language_info": {
   "codemirror_mode": {
    "name": "ipython",
    "version": 3
   },
   "file_extension": ".py",
   "mimetype": "text/x-python",
   "name": "python",
   "nbconvert_exporter": "python",
   "pygments_lexer": "ipython3",
   "version": "3.9.7"
  }
 },
 "nbformat": 4,
 "nbformat_minor": 5
}
