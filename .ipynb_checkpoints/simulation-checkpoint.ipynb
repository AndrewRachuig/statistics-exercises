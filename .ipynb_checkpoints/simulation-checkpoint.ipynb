{
 "cells": [
  {
   "cell_type": "code",
   "execution_count": 1,
   "id": "d3a5da94",
   "metadata": {},
   "outputs": [],
   "source": [
    "import numpy as np\n",
    "import pandas as pd\n",
    "import seaborn as sns"
   ]
  },
  {
   "cell_type": "code",
   "execution_count": 2,
   "id": "0c70414e",
   "metadata": {},
   "outputs": [
    {
     "data": {
      "text/plain": [
       "0.1707"
      ]
     },
     "execution_count": 2,
     "metadata": {},
     "output_type": "execute_result"
    }
   ],
   "source": [
    "# 1. How likely is it that you roll doubles when rolling two dice?\n",
    "\n",
    "n_trials = nrows = 10000\n",
    "n_dice = ncols = 2\n",
    "\n",
    "rolls = np.random.choice([1, 2, 3, 4, 5, 6], n_trials * n_dice).reshape(nrows, ncols)\n",
    "rolls\n",
    "\n",
    "doubles = 0\n",
    "for x in rolls:\n",
    "    if x[0] == x[1]:\n",
    "        doubles +=1\n",
    "        \n",
    "doubles / n_trials"
   ]
  },
  {
   "cell_type": "code",
   "execution_count": 3,
   "id": "dc8820fb",
   "metadata": {},
   "outputs": [
    {
     "data": {
      "text/plain": [
       "0.2146"
      ]
     },
     "execution_count": 3,
     "metadata": {},
     "output_type": "execute_result"
    }
   ],
   "source": [
    "# 2. If you flip 8 coins, what is the probability of getting exactly 3 heads? \n",
    "\n",
    "n_trials = nrows = 10000\n",
    "n_coins = ncols = 8\n",
    "\n",
    "flips = np.random.choice(['heads', 'tails'], n_trials * n_coins).reshape(nrows, ncols)\n",
    "def total_heads(rows):\n",
    "    heads = 0\n",
    "    for x in rows:\n",
    "        if x == \"heads\":\n",
    "            heads += 1\n",
    "    return heads\n",
    "df = pd.DataFrame(data = flips)\n",
    "three_heads = df.apply(total_heads, axis = 1) == 3\n",
    "three_heads.mean()"
   ]
  },
  {
   "cell_type": "code",
   "execution_count": 4,
   "id": "bded40e8",
   "metadata": {},
   "outputs": [
    {
     "data": {
      "text/plain": [
       "0.6404"
      ]
     },
     "execution_count": 4,
     "metadata": {},
     "output_type": "execute_result"
    }
   ],
   "source": [
    "# What is the probability of getting more than 3 heads?\n",
    "more_than_three = df.apply(total_heads, axis = 1) > 3\n",
    "more_than_three.mean()"
   ]
  },
  {
   "cell_type": "code",
   "execution_count": 5,
   "id": "ed07a011",
   "metadata": {},
   "outputs": [
    {
     "data": {
      "text/plain": [
       "0.0678"
      ]
     },
     "execution_count": 5,
     "metadata": {},
     "output_type": "execute_result"
    }
   ],
   "source": [
    "# 3. There are approximitely 3 web development cohorts for every 1 data science cohort at Codeup. Assuming that \n",
    "# Codeup randomly selects an alumni to put on a billboard, what are the odds that the two billboards I drive past \n",
    "# both have data science students on them?\n",
    "\n",
    "n_trials = nrows = 10000\n",
    "n_boards = ncols = 2\n",
    "\n",
    "# 0 represents Web Dev, and 1 represents Data Science\n",
    "boards_seen = np.random.choice([0, 0, 0, 1], n_trials * n_boards).reshape(nrows, ncols)\n",
    "both_ds = boards_seen.sum(axis=1) == 2\n",
    "both_ds.mean()"
   ]
  },
  {
   "cell_type": "code",
   "execution_count": 6,
   "id": "e8408ad9",
   "metadata": {},
   "outputs": [
    {
     "data": {
      "text/plain": [
       "0.616"
      ]
     },
     "execution_count": 6,
     "metadata": {},
     "output_type": "execute_result"
    }
   ],
   "source": [
    "# 4. Codeup students buy, on average, 3 poptart packages with a standard deviation of 1.5 a day from the snack \n",
    "# vending machine. If on monday the machine is restocked with 17 poptart packages, how likely is it that I will be \n",
    "# able to buy some poptarts on Friday afternoon? (Remember, if you have mean and standard deviation, use the \n",
    "# np.random.normal)\n",
    "\n",
    "\n",
    "# sns.histplot(np.random.normal(15, 3.35, 100000))\n",
    "# I converted this the mean and SD manually for 5 days before putting in the info below\n",
    "remaining = np.random.normal(15, 3.35, 100000) <= 16\n",
    "remaining.mean()\n"
   ]
  },
  {
   "cell_type": "code",
   "execution_count": 7,
   "id": "7a1d1657",
   "metadata": {},
   "outputs": [
    {
     "data": {
      "text/plain": [
       "0.21307"
      ]
     },
     "execution_count": 7,
     "metadata": {},
     "output_type": "execute_result"
    }
   ],
   "source": [
    "# 5. Compare Heights\n",
    "\n",
    "# Men have an average height of 178 cm and standard deviation of 8cm.\n",
    "# Women have a mean of 170, sd = 6cm.\n",
    "# Since you have means and standard deviations, you can use np.random.normal to generate observations.\n",
    "# If a man and woman are chosen at random, what is the likelihood the woman is taller than the man?\n",
    "men = np.random.normal(178, 8, 100000)\n",
    "women = np.random.normal(170, 6, 100000)\n",
    "taller_women = women > men\n",
    "taller_women.mean()"
   ]
  },
  {
   "cell_type": "code",
   "execution_count": 8,
   "id": "da630d60",
   "metadata": {},
   "outputs": [
    {
     "data": {
      "text/plain": [
       "0.8145"
      ]
     },
     "execution_count": 8,
     "metadata": {},
     "output_type": "execute_result"
    }
   ],
   "source": [
    "# 6. When installing anaconda on a student's computer, there's a 1 in 250 chance that the download is corrupted and \n",
    "# the installation fails. What are the odds that after having 50 students download anaconda, no one has an \n",
    "# installation issue?\n",
    "\n",
    "n_trials = nrows = 10000\n",
    "n_students = ncols = 50\n",
    "\n",
    "# 1 = fail, 0 = no problem\n",
    "def no_fails(rows, cols):\n",
    "    failures=  np.random.choice([0, 1], rows * cols,  p = [249/250, 1/250]).reshape(rows, cols)\n",
    "    return (failures.sum(axis=1) < 1).mean()\n",
    "# fails = np.random.choice([0, 1], n_trials * n_students,  p = [249/250, 1/250]).reshape(nrows, ncols)\n",
    "# total_fails = fails(ncols, nrows) < 1\n",
    "# total_fails.mean()\n",
    "no_fails(nrows,ncols)"
   ]
  },
  {
   "cell_type": "code",
   "execution_count": 9,
   "id": "0da39560",
   "metadata": {},
   "outputs": [
    {
     "data": {
      "text/plain": [
       "0.6717"
      ]
     },
     "execution_count": 9,
     "metadata": {},
     "output_type": "execute_result"
    }
   ],
   "source": [
    "#  100 students?\n",
    "no_fails(nrows, 100)\n"
   ]
  },
  {
   "cell_type": "code",
   "execution_count": 10,
   "id": "1acd8e5b",
   "metadata": {},
   "outputs": [
    {
     "data": {
      "text/plain": [
       "0.45430000000000004"
      ]
     },
     "execution_count": 10,
     "metadata": {},
     "output_type": "execute_result"
    }
   ],
   "source": [
    "# What is the probability that we observe an installation issue within the first 150 students that download anaconda?\n",
    "1 - no_fails(nrows, 150)\n"
   ]
  },
  {
   "cell_type": "code",
   "execution_count": 11,
   "id": "55a332d6",
   "metadata": {},
   "outputs": [
    {
     "data": {
      "text/plain": [
       "0.1648"
      ]
     },
     "execution_count": 11,
     "metadata": {},
     "output_type": "execute_result"
    }
   ],
   "source": [
    "# How likely is it that 450 students all download anaconda without an issue?\n",
    "no_fails(nrows, 450)\n"
   ]
  },
  {
   "cell_type": "code",
   "execution_count": 12,
   "id": "17532e05",
   "metadata": {},
   "outputs": [
    {
     "name": "stdout",
     "output_type": "stream",
     "text": [
      "There is a 2.5100000000000002% chance that you would not have seen a food truck in 3 days.\n"
     ]
    }
   ],
   "source": [
    "# 7. There's a 70% chance on any given day that there will be at least one food truck at Travis Park. However, you \n",
    "# haven't seen a food truck there in 3 days. How unlikely is this?\n",
    "n_trials = nrows = 10000\n",
    "n_days = ncols = 3\n",
    "\n",
    "\n",
    "# 1 = Seen a truck, 0 = not seen a truck\n",
    "trucks = np.random.choice([0, 1], n_trials * n_days,  p = [.3, .7]).reshape(nrows, ncols)\n",
    "chance = (trucks.sum(axis=1) < 1).mean()\n",
    "print(f\"There is a {chance * 100}% chance that you would not have seen a food truck in 3 days.\")"
   ]
  },
  {
   "cell_type": "code",
   "execution_count": 13,
   "id": "d48babb8",
   "metadata": {},
   "outputs": [
    {
     "data": {
      "text/plain": [
       "0.9996"
      ]
     },
     "execution_count": 13,
     "metadata": {},
     "output_type": "execute_result"
    }
   ],
   "source": [
    "# How likely is it that a food truck will show up sometime this week?\n",
    "n_trials = nrows = 10000\n",
    "n_days = ncols = 7\n",
    "\n",
    "\n",
    "# 1 = Seen a truck, 0 = not seen a truck\n",
    "trucks = np.random.choice([0, 1], n_trials * n_days,  p = [.3, .7]).reshape(nrows, ncols)\n",
    "(trucks.sum(axis=1) > 0).mean()"
   ]
  },
  {
   "cell_type": "code",
   "execution_count": 93,
   "id": "a3dee4c3",
   "metadata": {},
   "outputs": [
    {
     "name": "stdout",
     "output_type": "stream",
     "text": [
      "The probability that exactly two people share a birthday in a room of 23 people is 0.36112, however \n",
      "the probability that two OR MORE share the same birthday is 0.50377.\n"
     ]
    }
   ],
   "source": [
    "# 8. If 23 people are in the same room, what are the odds that two of them share a birthday? \n",
    "n_trials = nrows = 100000\n",
    "n_people = ncols = 23\n",
    "\n",
    "\n",
    "bdays = np.random.randint(1, 366, n_trials * n_people).reshape(nrows, ncols)\n",
    "df = pd.DataFrame(data = bdays)\n",
    "\n",
    "def two_share(x):\n",
    "    return len(x) - len(set(x)) == 1\n",
    "    \n",
    "def two_or_more(x):\n",
    "    return len(x) - len(set(x)) > 0\n",
    "    \n",
    "two_people_only = df.apply(two_share, axis = 1).mean()\n",
    "\n",
    "two_people_or_more = df.apply(two_or_more, axis = 1).mean()\n",
    "\n",
    "print(f\"The probability that exactly two people share a birthday in a room of 23 people is {two_people_only}, however \\nthe probability that two OR MORE share the same birthday is {two_people_or_more}.\")"
   ]
  },
  {
   "cell_type": "code",
   "execution_count": 94,
   "id": "432851c1",
   "metadata": {},
   "outputs": [
    {
     "name": "stdout",
     "output_type": "stream",
     "text": [
      "The probability that exactly two people share a birthday in a room of 20 people is 0.32136, however \n",
      "the probability that two OR MORE share the same birthday is 0.4097.\n"
     ]
    }
   ],
   "source": [
    "# What if it's 20 people?\n",
    "n_trials = nrows = 100000\n",
    "n_people = ncols = 20\n",
    "\n",
    "\n",
    "bdays = np.random.randint(1, 366, n_trials * n_people).reshape(nrows, ncols)\n",
    "df = pd.DataFrame(data = bdays)\n",
    "\n",
    "def two_share(x):\n",
    "    return len(x) - len(set(x)) == 1\n",
    "    \n",
    "def two_or_more(x):\n",
    "    return len(x) - len(set(x)) > 0\n",
    "    \n",
    "two_people_only = df.apply(two_share, axis = 1).mean()\n",
    "\n",
    "two_people_or_more = df.apply(two_or_more, axis = 1).mean()\n",
    "\n",
    "print(f\"The probability that exactly two people share a birthday in a room of 20 people is {two_people_only}, however \\nthe probability that two OR MORE share the same birthday is {two_people_or_more}.\")\n"
   ]
  },
  {
   "cell_type": "code",
   "execution_count": 92,
   "id": "e195614b",
   "metadata": {},
   "outputs": [
    {
     "name": "stdout",
     "output_type": "stream",
     "text": [
      "The probability that exactly two people share a birthday in a room of 40 people is 0.26221, however \n",
      "the probability that two OR MORE share the same birthday is 0.89184.\n"
     ]
    }
   ],
   "source": [
    "# What if it's 40 people?\n",
    "n_trials = nrows = 100000\n",
    "n_people = ncols = 40\n",
    "\n",
    "\n",
    "bdays = np.random.randint(1, 366, n_trials * n_people).reshape(nrows, ncols)\n",
    "df = pd.DataFrame(data = bdays)\n",
    "\n",
    "def two_share(x):\n",
    "    return len(x) - len(set(x)) == 1\n",
    "    \n",
    "def two_or_more(x):\n",
    "    return len(x) - len(set(x)) > 0\n",
    "    \n",
    "two_people_only = df.apply(two_share, axis = 1).mean()\n",
    "\n",
    "two_people_or_more = df.apply(two_or_more, axis = 1).mean()\n",
    "\n",
    "print(f\"The probability that exactly two people share a birthday in a room of 40 people is {two_people_only}, however \\nthe probability that two OR MORE share the same birthday is {two_people_or_more}.\")\n",
    "\n"
   ]
  }
 ],
 "metadata": {
  "kernelspec": {
   "display_name": "Python 3 (ipykernel)",
   "language": "python",
   "name": "python3"
  },
  "language_info": {
   "codemirror_mode": {
    "name": "ipython",
    "version": 3
   },
   "file_extension": ".py",
   "mimetype": "text/x-python",
   "name": "python",
   "nbconvert_exporter": "python",
   "pygments_lexer": "ipython3",
   "version": "3.9.7"
  }
 },
 "nbformat": 4,
 "nbformat_minor": 5
}
