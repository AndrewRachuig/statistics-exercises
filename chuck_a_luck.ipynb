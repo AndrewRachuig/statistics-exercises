{
 "cells": [
  {
   "cell_type": "code",
   "execution_count": 1,
   "id": "2127cf40",
   "metadata": {},
   "outputs": [],
   "source": [
    "import numpy as np\n",
    "import pandas as pd\n",
    "import matplotlib.pyplot as plt"
   ]
  },
  {
   "cell_type": "markdown",
   "id": "ccc6c63c",
   "metadata": {},
   "source": [
    "Rules:\n",
    "- The player pays $1 to play and picks a number.\n",
    "- The House rolls 3 dice at once.\n",
    "\n",
    "- Payouts:\n",
    "  - \\$3 if all three dice match the chosen number\n",
    "  - \\$2 if exactly two dice match the chosen number\n",
    "  - \\$1 is exactly one of the dice matches the chosen number\n",
    "  - If none of the dice match the player's chosen number, then the House keeps the \\$1.\n",
    "\n",
    "\n"
   ]
  },
  {
   "cell_type": "markdown",
   "id": "c9f64c3b",
   "metadata": {},
   "source": [
    "Exercises:\n",
    "- What are your chances of getting an outcome payout of \\\\$2? (where we earned \\\\$3 on the \\$1 ante)\n"
   ]
  },
  {
   "cell_type": "code",
   "execution_count": 2,
   "id": "1e9a61f0",
   "metadata": {},
   "outputs": [
    {
     "name": "stdout",
     "output_type": "stream",
     "text": [
      "The mathematical chances of this happening are 1/6 cubed or 0.463%.\n"
     ]
    }
   ],
   "source": [
    "print(f\"The mathematical chances of this happening are 1/6 cubed or {round((1/(6**3))*100, 3)}%.\")"
   ]
  },
  {
   "cell_type": "code",
   "execution_count": 3,
   "id": "8c38f4ee",
   "metadata": {},
   "outputs": [
    {
     "name": "stdout",
     "output_type": "stream",
     "text": [
      "The experimental results of 1 million trials shows the chance of gettting a $2 payout (meaning you got all 3 dice to roll as your selected number is 0.4639%.\n"
     ]
    }
   ],
   "source": [
    "n_trials = 1000000\n",
    "n_dice = 3\n",
    "choice_range = np.arange(1,7)\n",
    "\n",
    "dice_rolls = np.random.choice(choice_range, size = (n_trials, n_dice))\n",
    "chosen_number = np.random.choice(choice_range)\n",
    "\n",
    "\n",
    "def check_for_selection(rows, random_numb):\n",
    "    correct = 0\n",
    "    for number in rows:\n",
    "        if number == chosen_number:\n",
    "                correct += 1            \n",
    "    return correct\n",
    "\n",
    "df = pd.DataFrame(dice_rolls)\n",
    "correct = df.apply(check_for_selection, random_numb = chosen_number, axis =1)\n",
    "all_correct = round((correct == 3).mean(),6)\n",
    "print(f\"The experimental results of 1 million trials shows the chance of gettting a $2 payout (meaning you got all 3 dice to roll as your selected number is {all_correct*100}%.\")"
   ]
  },
  {
   "cell_type": "markdown",
   "id": "87ca9188",
   "metadata": {},
   "source": [
    "- What are your chances of getting an payout of \\$1?\n"
   ]
  },
  {
   "cell_type": "code",
   "execution_count": 4,
   "id": "0f53d68d",
   "metadata": {},
   "outputs": [
    {
     "name": "stdout",
     "output_type": "stream",
     "text": [
      "The mathematical chances of this happening are (1/6) * (1/6) * (5/6) * (3) or 6.944%.\n"
     ]
    }
   ],
   "source": [
    "print(f\"The mathematical chances of this happening are (1/6) * (1/6) * (5/6) * (3) or {round((1/6)*(1/6)*(5/6)*3*100, 3)}%.\")"
   ]
  },
  {
   "cell_type": "code",
   "execution_count": 5,
   "id": "3b1608b1",
   "metadata": {},
   "outputs": [
    {
     "name": "stdout",
     "output_type": "stream",
     "text": [
      "The experimental results of 1 million trials shows the chance of gettting a $1 payout (meaning you got 2 dice to roll as your selected number is 6.9705%.\n"
     ]
    }
   ],
   "source": [
    "two_correct = round((correct == 2).mean(),6)\n",
    "print(f\"The experimental results of 1 million trials shows the chance of gettting a $1 payout (meaning you got 2 dice to roll as your selected number is {two_correct*100}%.\")"
   ]
  },
  {
   "cell_type": "markdown",
   "id": "e73beb1f",
   "metadata": {},
   "source": [
    "- What are your chances of getting a payout of \\\\$0 where you ante \\\\$1 and win \\$1?\n"
   ]
  },
  {
   "cell_type": "code",
   "execution_count": 6,
   "id": "428d7078",
   "metadata": {},
   "outputs": [
    {
     "name": "stdout",
     "output_type": "stream",
     "text": [
      "The mathematical chances of this happening are are (1/6) * (5/6) * (5/6) * (3) or 34.722%.\n"
     ]
    }
   ],
   "source": [
    "print(f\"The mathematical chances of this happening are are (1/6) * (5/6) * (5/6) * (3) or {round((1/6)*(5/6)*(5/6)*3*100, 3)}%.\")"
   ]
  },
  {
   "cell_type": "code",
   "execution_count": 7,
   "id": "7e834758",
   "metadata": {},
   "outputs": [
    {
     "name": "stdout",
     "output_type": "stream",
     "text": [
      "The experimental results of 1 million trials shows the chance of gettting a $0 payout (meaning you got 1 die to roll as your selected number is 34.7193%.\n"
     ]
    }
   ],
   "source": [
    "one_correct = round((correct == 1).mean(),6)\n",
    "\n",
    "print(f\"The experimental results of 1 million trials shows the chance of gettting a $0 payout (meaning you got 1 die to roll as your selected number is {one_correct*100}%.\")"
   ]
  },
  {
   "cell_type": "markdown",
   "id": "1dc00eb9",
   "metadata": {},
   "source": [
    "- What are your chances of getting a payout of -$1 where you ante up, but don't win anything?\n"
   ]
  },
  {
   "cell_type": "code",
   "execution_count": 8,
   "id": "2284c9df",
   "metadata": {},
   "outputs": [
    {
     "name": "stdout",
     "output_type": "stream",
     "text": [
      "The mathematical chances of this happening are 5/6 cubed or 57.87%.\n"
     ]
    }
   ],
   "source": [
    "print(f\"The mathematical chances of this happening are 5/6 cubed or {round(((5/6)**3)*100, 3)}%.\")"
   ]
  },
  {
   "cell_type": "code",
   "execution_count": 9,
   "id": "b06b69e6",
   "metadata": {},
   "outputs": [
    {
     "name": "stdout",
     "output_type": "stream",
     "text": [
      "The experimental results of 1 million trials shows the chance of gettting a $-1 payout (meaning you got 0 die to roll as your selected number is 57.84629999999999%.\n"
     ]
    }
   ],
   "source": [
    "none_correct = round((correct == 0).mean(),6)\n",
    "print(f\"The experimental results of 1 million trials shows the chance of gettting a $-1 payout (meaning you got 0 die to roll as your selected number is {none_correct*100}%.\")"
   ]
  },
  {
   "cell_type": "markdown",
   "id": "c50d7851",
   "metadata": {},
   "source": [
    "- What is the average cost/gain per game? (think of averaging the total payout calculation across all simulations)\n"
   ]
  },
  {
   "cell_type": "code",
   "execution_count": 10,
   "id": "017c9baa",
   "metadata": {},
   "outputs": [
    {
     "name": "stdout",
     "output_type": "stream",
     "text": [
      "The mathematical avg gain per game is ($0 * .34722) + ($1 * .06944) + ($2 * 0.00472) + ($-1 * .5787) or $-0.49982.\n"
     ]
    }
   ],
   "source": [
    "print(f\"The mathematical avg gain per game is ($0 * .34722) + ($1 * .06944) + ($2 * 0.00472) + ($-1 * .5787) or ${(0 * .34722) + (1 * .06944) + (2 * 0.00472) + (-1 * .5787)}.\")"
   ]
  },
  {
   "cell_type": "code",
   "execution_count": 11,
   "id": "04506473",
   "metadata": {},
   "outputs": [
    {
     "name": "stdout",
     "output_type": "stream",
     "text": [
      "The experimental results of 1 million trials show the avg gain per game is $-0.4994799999999999.\n"
     ]
    }
   ],
   "source": [
    "print(f\"The experimental results of 1 million trials show the avg gain per game is ${(0*one_correct)+(1*two_correct)+(2*all_correct)+(-1*none_correct)}.\")"
   ]
  },
  {
   "cell_type": "markdown",
   "id": "eb4d24cf",
   "metadata": {},
   "source": [
    "- Chart out a histogram of all the outcomes of those 1,000,000 games\n"
   ]
  },
  {
   "cell_type": "code",
   "execution_count": 12,
   "id": "194d3a1e",
   "metadata": {},
   "outputs": [
    {
     "data": {
      "image/png": "[encoded data removed]",
      "text/plain": [
       "<Figure size 432x288 with 1 Axes>"
      ]
     },
     "metadata": {
      "needs_background": "light"
     },
     "output_type": "display_data"
    }
   ],
   "source": [
    "plt.hist(correct);"
   ]
  },
  {
   "cell_type": "markdown",
   "id": "08aa3ca3",
   "metadata": {},
   "source": [
    "- Is this really a fair game of 1/6 + 1/6 + 1/6 odds?\n",
    "\n",
    "Absolutely not!"
   ]
  },
  {
   "cell_type": "markdown",
   "id": "11cc8690",
   "metadata": {},
   "source": [
    "- If you play 1,000,000 games in a row, what are your winnings/losses?"
   ]
  },
  {
   "cell_type": "code",
   "execution_count": 13,
   "id": "03d139d3",
   "metadata": {},
   "outputs": [
    {
     "name": "stdout",
     "output_type": "stream",
     "text": [
      "The experimental results of 1 million trials show a gain of $-499480.\n"
     ]
    }
   ],
   "source": [
    "def winnings(x):\n",
    "    total = 0\n",
    "    if x == 0:\n",
    "        total -= 1\n",
    "    elif x == 2:\n",
    "        total += 1\n",
    "    elif x == 3:\n",
    "        total += 2\n",
    "    return total\n",
    "\n",
    "total_winnings = correct.apply(winnings).sum()\n",
    "\n",
    "\n",
    "print(f\"The experimental results of 1 million trials show a gain of ${total_winnings}.\")"
   ]
  }
 ],
 "metadata": {
  "kernelspec": {
   "display_name": "Python 3 (ipykernel)",
   "language": "python",
   "name": "python3"
  },
  "language_info": {
   "codemirror_mode": {
    "name": "ipython",
    "version": 3
   },
   "file_extension": ".py",
   "mimetype": "text/x-python",
   "name": "python",
   "nbconvert_exporter": "python",
   "pygments_lexer": "ipython3",
   "version": "3.9.7"
  }
 },
 "nbformat": 4,
 "nbformat_minor": 5
}
