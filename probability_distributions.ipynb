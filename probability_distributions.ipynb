{
 "cells": [
  {
   "cell_type": "code",
   "execution_count": 1,
   "id": "665d164f",
   "metadata": {},
   "outputs": [],
   "source": [
    "import matplotlib.pyplot as plt\n",
    "import numpy as np\n",
    "from scipy import stats\n",
    "\n"
   ]
  },
  {
   "cell_type": "code",
   "execution_count": 5,
   "id": "e978f3ed",
   "metadata": {},
   "outputs": [
    {
     "data": {
      "text/plain": [
       "<BarContainer object of 10 artists>"
      ]
     },
     "execution_count": 5,
     "metadata": {},
     "output_type": "execute_result"
    },
    {
     "data": {
      "image/png": "[encoded data removed]",
      "text/plain": [
       "<Figure size 432x288 with 1 Axes>"
      ]
     },
     "metadata": {
      "needs_background": "light"
     },
     "output_type": "display_data"
    }
   ],
   "source": [
    "# 1. A bank found that the average number of cars waiting during the noon hour at a drive-up window follows a Poisson \n",
    "# distribution with a mean of 2 cars. Make a chart of this distribution and answer these questions concerning the probability \n",
    "# of cars waiting at the drive-up window.\n",
    "\n",
    "x = np.arange(0, 10)\n",
    "y = stats.poisson(2).pmf(x)\n",
    "\n",
    "plt.bar(x,y)\n",
    "\n"
   ]
  },
  {
   "cell_type": "code",
   "execution_count": 6,
   "id": "6f508401",
   "metadata": {},
   "outputs": [
    {
     "name": "stdout",
     "output_type": "stream",
     "text": [
      "The experimental probability of 0 cars is 0.1398\n",
      "The statistical probability of 0 cars is 0.1353352832366127\n"
     ]
    }
   ],
   "source": [
    "# What is the probability that no cars drive up in the noon hour?\n",
    "n_trials = nrows = 10000\n",
    "\n",
    "choice_range = np.arange(0,16)\n",
    "prob = stats.poisson(2).pmf(choice_range)\n",
    "\n",
    "\n",
    "cars = np.random.choice(choice_range, size = (n_trials), p = prob)\n",
    "\n",
    "print(f\"The experimental probability of 0 cars is {(cars == 0).mean()}\")\n",
    "\n",
    "print(f\"The statistical probability of 0 cars is {stats.poisson(2).pmf(0)}\")\n",
    "\n"
   ]
  },
  {
   "cell_type": "code",
   "execution_count": 136,
   "id": "884abad1",
   "metadata": {},
   "outputs": [
    {
     "name": "stdout",
     "output_type": "stream",
     "text": [
      "The experimental probability of 3 or more cars is 0.3217\n",
      "The statistical probability of 3 or more cars is 0.32332358381693654\n",
      "\n",
      "The experimental probability of at least 1 car is 0.8602\n",
      "The statistical probability of at least 1 car is 0.8646647167633873\n"
     ]
    }
   ],
   "source": [
    "# What is the probability that 3 or more cars come through the drive through?\n",
    "print(f\"The experimental probability of 3 or more cars is {(cars >= 3).mean()}\")\n",
    "\n",
    "print(f\"The statistical probability of 3 or more cars is {stats.poisson(2).sf(2)}\\n\")\n",
    "\n",
    "\n",
    "# How likely is it that the drive through gets at least 1 car?\n",
    "\n",
    "print(f\"The experimental probability of at least 1 car is {(cars >= 1).mean()}\")\n",
    "\n",
    "print(f\"The statistical probability of at least 1 car is {stats.poisson(2).sf(0)}\")\n"
   ]
  },
  {
   "cell_type": "code",
   "execution_count": 190,
   "id": "2b74ac0d",
   "metadata": {},
   "outputs": [
    {
     "name": "stdout",
     "output_type": "stream",
     "text": [
      "The experimental probability shows a gpa of 3.49501477518576 or higher to be in the top 5% of the class.\n",
      "The statistical probability shows a gpa of 3.4934560880854417 or higher to be in the top 5% of the class.\n",
      "\n",
      "The experimental probability shows a gpa of 2.6914400528106452 or lower to be in the bottom 15% of the class.\n",
      "The statistical probability shows a gpa of 2.689069983151863 or lower to be in the bottom 15% of the class.\n",
      "\n",
      "The range for the third decile is 2.7475136299281258 to 2.842679846187588.\n",
      "So yes, a student with a 2.8 gpa would qualify for the scholarship.\n",
      "\n",
      "The experimental probability shows a gpa of 3.5 being in the 95.0 percentile of the class.\n",
      "The statistical probability shows a gpa of 3.5 being in the 95.0 percentile of the class.\n"
     ]
    }
   ],
   "source": [
    "# 2. Grades of State University graduates are normally distributed with a mean of 3.0 and a standard deviation of .3. \n",
    "# Calculate the following:\n",
    "n_trials = 10000\n",
    "\n",
    "\n",
    "grades = np.random.normal(3, .3, n_trials)\n",
    "\n",
    "# What grade point average is required to be in the top 5% of the graduating class?\n",
    "print(f\"The experimental probability shows a gpa of {np.sort(grades)[9500]} or higher to be in the top 5% of the class.\")\n",
    "\n",
    "print(f\"The statistical probability shows a gpa of {stats.norm(3, .3).ppf(.95)} or higher to be in the top 5% of the class.\\n\")\n",
    "\n",
    "\n",
    "# What GPA constitutes the bottom 15% of the class?\n",
    "print(f\"The experimental probability shows a gpa of {np.sort(grades)[1500]} or lower to be in the bottom 15% of the class.\")\n",
    "\n",
    "print(f\"The statistical probability shows a gpa of {stats.norm(3, .3).ppf(.15)} or lower to be in the bottom 15% of the class.\\n\")\n",
    "\n",
    "# An eccentric alumnus left scholarship money for students in the third decile from the bottom of their class. \n",
    "# Determine the range of the third decile. Would a student with a 2.8 grade point average qualify for this scholarship?\n",
    "print(f\"The range for the third decile is {stats.norm(3, .3).ppf(.2)} to {stats.norm(3, .3).ppf(.3)}.\\nSo yes, a student with a 2.8 gpa would qualify for the scholarship.\\n\")\n",
    "\n",
    "\n",
    "# If I have a GPA of 3.5, what percentile am I in?\n",
    "print(f\"The experimental probability shows a gpa of 3.5 being in the {(grades < 3.5).mean().round(2)*100} percentile of the class.\")\n",
    "\n",
    "print(f\"The statistical probability shows a gpa of 3.5 being in the {(stats.norm(3, .3).cdf(3.5)).round(2) * 100} percentile of the class.\")\n"
   ]
  },
  {
   "cell_type": "code",
   "execution_count": 318,
   "id": "0c19f07d",
   "metadata": {},
   "outputs": [
    {
     "name": "stdout",
     "output_type": "stream",
     "text": [
      "The experimental probability that this many people or more click through is 0.1442.\n",
      "The statistical probability that this many people or more click through is 0.14211867659283192.\n"
     ]
    }
   ],
   "source": [
    "# 3. A marketing website has an average click-through rate of 2%. One day they observe 4326 visitors and 97 \n",
    "# click-throughs. How likely is it that this many people or more click through?\n",
    "\n",
    "expected_clicks= 4326 *.02\n",
    "actual_clicks = 97\n",
    "n_trials = 10000\n",
    "\n",
    "choice_range = np.arange(0,150)\n",
    "prob = stats.poisson(expected_clicks).pmf(choice_range)\n",
    "clicks = np.random.choice(choice_range, size = (n_trials), p = prob)\n",
    "\n",
    "\n",
    "print(f\"The experimental probability that this many people or more click through is {(clicks >= actual_clicks).mean()}.\")\n",
    "\n",
    "print(f\"The statistical probability that this many people or more click through is {stats.poisson(expected_clicks).sf(actual_clicks-1)}.\")\n",
    "\n",
    "\n"
   ]
  },
  {
   "cell_type": "code",
   "execution_count": 94,
   "id": "bf8fb3be",
   "metadata": {},
   "outputs": [
    {
     "name": "stdout",
     "output_type": "stream",
     "text": [
      "The experimental probability of getting one right answer in the first 60 is 0.4515.\n",
      "The statistical probability of getting one right answer in the first 60 is 0.45284335760923855.\n"
     ]
    }
   ],
   "source": [
    "# 4. You are working on some statistics homework consisting of 100 questions where all of the answers are a \n",
    "# probability rounded to the hundreths place. Looking to save time, you put down random probabilities as the answer \n",
    "# to each question.\n",
    "\n",
    "# What is the probability that at least one of your first 60 answers is correct?\n",
    "n_trials = 10000\n",
    "n_questions = 60\n",
    "\n",
    "responses = np.random.choice([True, False], p = (.01, .99), size = (n_trials, n_questions))\n",
    "# (responses.sum(axis=1) >= 1).mean()\n",
    "\n",
    "print(f\"The experimental probability of getting one right answer in the first 60 is {(responses.sum(axis=1) >= 1).mean()}.\")\n",
    "\n",
    "print(f\"The statistical probability of getting one right answer in the first 60 is {stats.binom(60, .01).sf(0)}.\")\n"
   ]
  },
  {
   "cell_type": "code",
   "execution_count": 330,
   "id": "76d49cd7",
   "metadata": {},
   "outputs": [
    {
     "name": "stdout",
     "output_type": "stream",
     "text": [
      "The experimental probability of the break area being cleaned each day is 0.8338.\n",
      "The statistical probability of the break area being cleaned each day is 0.8342199288437352.\n",
      "\n",
      "The experimental probability of the break area not being cleaned after 2 days is 0.027.\n",
      "The statistical probability of the break area not being cleaned after 2 days is 0.02748303199257622.\n",
      "\n",
      "The experimental probability of the break area not being cleaned all week is 0.0002.\n",
      "The statistical probability of the break area not being cleaned all week is 0.00012521651388091353.\n"
     ]
    }
   ],
   "source": [
    "# 5. The codeup staff tends to get upset when the student break area is not cleaned up. Suppose that there's a \n",
    "# 3% chance that any one student cleans the break area when they visit it, and, on any given day, about 90% of the \n",
    "# 3 active cohorts of 22 students visit the break area. How likely is it that the break area gets cleaned up each day?\n",
    "n_trials = 10000\n",
    "visitors = (.9 *66)\n",
    "visitors = np.round(visitors)\n",
    "visitors = int(visitors)\n",
    "\n",
    "cleans = np.random.choice([True, False], p = (.03, .97), size = (n_trials, visitors))\n",
    "\n",
    "\n",
    "\n",
    "print(f\"The experimental probability of the break area being cleaned each day is {(cleans.sum(axis=1) > 0).mean()}.\")\n",
    "\n",
    "print(f\"The statistical probability of the break area being cleaned each day is {stats.binom(visitors, .03).sf(0)}.\\n\")\n",
    "\n",
    "\n",
    "# How likely is it that it goes two days without getting cleaned up? \n",
    "cleans_after2 = np.random.choice([True, False], p = (.03, .97), size = (n_trials, visitors*2))\n",
    "\n",
    "\n",
    "print(f\"The experimental probability of the break area not being cleaned after 2 days is {(cleans_after2.sum(axis=1) < 1).mean()}.\")\n",
    "\n",
    "print(f\"The statistical probability of the break area not being cleaned after 2 days is {stats.binom(visitors*2, .03).cdf(0)}.\\n\")\n",
    "\n",
    "# All week?\n",
    "cleans_after_week = np.random.choice([True, False], p = (.03, .97), size = (n_trials, visitors*5))\n",
    "\n",
    "\n",
    "print(f\"The experimental probability of the break area not being cleaned all week is {(cleans_after_week.sum(axis=1) < 1).mean()}.\")\n",
    "\n",
    "print(f\"The statistical probability of the break area not being cleaned all week is {stats.binom(visitors*5, .03).cdf(0)}.\")          \n"
   ]
  },
  {
   "cell_type": "code",
   "execution_count": 338,
   "id": "57a2c9af",
   "metadata": {},
   "outputs": [
    {
     "name": "stdout",
     "output_type": "stream",
     "text": [
      "The experimental probability of having enough time to eat food is 0.6919.\n",
      "The statistical probability of having enough time to eat food is 0.6914624612740131.\n"
     ]
    }
   ],
   "source": [
    "# 6. You want to get lunch at La Panaderia, but notice that the line is usually very long at lunchtime. After several \n",
    "# weeks of careful observation, you notice that the average number of people in line when your lunch break starts is \n",
    "# normally distributed with a mean of 15 and standard deviation of 3. If it takes 2 minutes for each person to order, \n",
    "# and 10 minutes from ordering to getting your food, what is the likelihood that you have at least 15 minutes left to \n",
    "# eat your food before you have to go back to class? Assume you have one hour for lunch, and ignore travel time to \n",
    "# and from La Panaderia.\n",
    "\n",
    "mean_time = 30\n",
    "sd_time = 6\n",
    "time_needed = 60 - 15 - 10 - 2\n",
    "n_trials = 10000\n",
    "wait_times = np.random.normal(mean_time, sd_time, size= n_trials)\n",
    "\n",
    "\n",
    "print(f\"The experimental probability of having enough time to eat food is {(wait_times < time_needed).mean()}.\")\n",
    "\n",
    "print(f\"The statistical probability of having enough time to eat food is {stats.norm(mean_time, sd_time).cdf(time_needed)}.\")          \n",
    "\n"
   ]
  },
  {
   "cell_type": "code",
   "execution_count": 344,
   "id": "c8007b4f",
   "metadata": {},
   "outputs": [],
   "source": [
    "# 7. Connect to the employees database and find the average salary of current employees, along with the standard \n",
    "# deviation. For the following questions, calculate the answer based on modeling the employees salaries with a \n",
    "# normal distribution defined by the calculated mean and standard deviation then compare this answer to the actual \n",
    "# values present in the salaries dataset.\n",
    "\n",
    "import env\n",
    "import pandas as pd\n",
    "url = env.get_db_url('employees')\n",
    "\n",
    "query = '''\n",
    "SELECT salary\n",
    "FROM salaries\n",
    "WHERE to_date > now();\n",
    "'''\n",
    "\n",
    "salaries = pd.read_sql(query, url)"
   ]
  },
  {
   "cell_type": "code",
   "execution_count": 296,
   "id": "2a770e71",
   "metadata": {},
   "outputs": [
    {
     "name": "stdout",
     "output_type": "stream",
     "text": [
      "The mean salary is $72012.24 and the standard deviation is $17310.0\n"
     ]
    }
   ],
   "source": [
    "mean_sal = salaries.mean()[0]\n",
    "sd_sal = salaries.std()[0]\n",
    "print(f\"The mean salary is ${mean_sal.round(2)} and the standard deviation is ${sd_sal.round(2)}\")"
   ]
  },
  {
   "cell_type": "code",
   "execution_count": 320,
   "id": "80cfdf75",
   "metadata": {},
   "outputs": [
    {
     "name": "stdout",
     "output_type": "stream",
     "text": [
      "The experimental percentage of employees who earn less than $60,000 is 24.349999999999998%.\n",
      "The statistical percentage of employees who earn less than $60,000 is 24.39%.\n",
      "The actual percentage of employees who earn less than $60,000 is 27.06%.\n",
      "\n",
      "The experimental percentage of employees who earn more than $95,000 is 9.28%.\n",
      "The statistical percentage of employees who earn more than $95,000 is 9.21%.\n",
      "The actual percentage of employees who earn less more $95,000 is 10.86%.\n",
      "\n",
      "The experimental percentage of employees who earn between $65,000 and $80,000 is 33.14%.\n",
      "The statistical percentage of employees who earn between $65,000 and $80,000 is 33.51%.\n",
      "The actual percentage of employees who earn between $65,000 and $80,000 is 32.51%.\n",
      "\n",
      "The experimental salary of employees who are in the top 5% is a minimum of $101314.03.\n",
      "The statistical salary of employees who are in the top 5% is a minimum of $100484.64.\n",
      "The actual salary of employees who are in the top 5% is a minimum of $104225.85.\n"
     ]
    }
   ],
   "source": [
    "n_trials = 10000\n",
    "exp_sal = np.random.normal(mean_sal, sd_sal, size = n_trials) \n",
    "\n",
    "\n",
    "# What percent of employees earn less than 60,000?\n",
    "print(f\"The experimental percentage of employees who earn less than $60,000 is {(exp_sal < 60000).mean()*100}%.\")\n",
    "\n",
    "print(f\"The statistical percentage of employees who earn less than $60,000 is {(stats.norm(mean_sal, sd_sal).cdf(60000)*100).round(2)}%.\")          \n",
    "\n",
    "print(f\"The actual percentage of employees who earn less than $60,000 is {(((salaries < 60000).mean()*100)[0]).round(2)}%.\\n\")\n",
    "\n",
    "# What percent of employees earn more than 95,000?\n",
    "print(f\"The experimental percentage of employees who earn more than $95,000 is {(exp_sal > 95000).mean()*100}%.\")\n",
    "\n",
    "print(f\"The statistical percentage of employees who earn more than $95,000 is {(stats.norm(mean_sal, sd_sal).sf(95000)*100).round(2)}%.\")          \n",
    "\n",
    "print(f\"The actual percentage of employees who earn less more $95,000 is {(((salaries > 95000).mean()*100)[0]).round(2)}%.\\n\")\n",
    "\n",
    "\n",
    "\n",
    "\n",
    "# What percent of employees earn between 65,000 and 80,000?\n",
    "print(f\"The experimental percentage of employees who earn between $65,000 and $80,000 is {((exp_sal > 65000) & (exp_sal < 80000)).mean()*100}%.\")\n",
    "\n",
    "print(f\"The statistical percentage of employees who earn between $65,000 and $80,000 is {((stats.norm(mean_sal, sd_sal).cdf(80000) - stats.norm(mean_sal, sd_sal).cdf(65000)) *100).round(2)}%.\")          \n",
    "\n",
    "print(f\"The actual percentage of employees who earn between $65,000 and $80,000 is {((((salaries > 65000) & (salaries < 80000)).mean()*100)[0]).round(2)}%.\\n\")\n",
    "\n",
    "\n",
    "\n",
    "# What do the top 5% of employees make?\n",
    "print(f\"The experimental salary of employees who are in the top 5% is a minimum of ${(pd.DataFrame(exp_sal).quantile(.95)[0]).round(2)}.\")\n",
    "\n",
    "print(f\"The statistical salary of employees who are in the top 5% is a minimum of ${(stats.norm(mean_sal, sd_sal).ppf(.95)).round(2)}.\")          \n",
    "\n",
    "print(f\"The actual salary of employees who are in the top 5% is a minimum of ${(salaries.quantile(.95)[0]).round(2)}.\")\n",
    "\n"
   ]
  }
 ],
 "metadata": {
  "kernelspec": {
   "display_name": "Python 3 (ipykernel)",
   "language": "python",
   "name": "python3"
  },
  "language_info": {
   "codemirror_mode": {
    "name": "ipython",
    "version": 3
   },
   "file_extension": ".py",
   "mimetype": "text/x-python",
   "name": "python",
   "nbconvert_exporter": "python",
   "pygments_lexer": "ipython3",
   "version": "3.9.7"
  }
 },
 "nbformat": 4,
 "nbformat_minor": 5
}
